{
 "cells": [
  {
   "cell_type": "code",
   "execution_count": null,
   "metadata": {},
   "outputs": [],
   "source": [
    "!git clone -b v1.0 https://github.com/ultralytics/yolov5.git"
   ]
  },
  {
   "cell_type": "code",
   "execution_count": null,
   "metadata": {},
   "outputs": [],
   "source": [
    "# 上传data.zip (yolo格式) 到yolov5并目录下\n",
    "!unzip -q data.zip -d yolov5/data_up\n",
    "!rm -rf yolov5/data/images\n",
    "!mv yolov5/data_up/images yolov5/data/\n",
    "!mv yolov5/data_up/labels yolov5/data/\n",
    "!mv yolov5/data_up/train.txt yolov5/data/\n",
    "!mv yolov5/data_up/test.txt yolov5/data/\n",
    "!mv yolov5/data_up/val.txt yolov5/data/"
   ]
  },
  {
   "cell_type": "markdown",
   "metadata": {},
   "source": [
    "#### 在yolov5目录下创建 model.yml 和 dataset.yml\n",
    "- model.yml从yolov5/models/下面复制\n",
    "- dataset.yml\n",
    "```python\n",
    "train: data/train.txt  # 数据集里的训练集列表文件路径\n",
    "val: data/val.txt  # 数据集里的验证集列表文件路径\n",
    "nc: 2 #类型数量\n",
    "names: [ 'blue', 'red' ]  #类型名\n",
    "```\n",
    "- 在yolov5/utils/utils.py中加入\n",
    "```python\n",
    "\n",
    "        # Append\n",
    "        indices.append((b, a, gj, gi))  # image, anchor, grid indices\n",
    "        gxy, gij, gwh = gxy.float(), gij.float(), gwh.float() #加入这个!!!\n",
    "        tbox.append(torch.cat((gxy - gij, gwh), 1))  # box\n",
    "        anch.append(anchors[a])  # anchors\n",
    "        tcls.append(c)  # class\n"
   ]
  },
  {
   "cell_type": "code",
   "execution_count": null,
   "metadata": {},
   "outputs": [],
   "source": [
    "import os\n",
    "os.chdir('yolov5')\n",
    "\n",
    "#!pip install -r requirements.txt\n",
    "#!pip install torch==1.3.0\n",
    "#!pip install torchvision==0.4.0\n",
    "#!wget https://github.com/ultralytics/yolov5/releases/download/v1.0/yolov5s.pt\n",
    "!python train.py --data dataset.yaml --cfg model.yaml --weights yolov5s.pt --batch-size 32\n",
    "os.chdir('../')"
   ]
  },
  {
   "cell_type": "code",
   "execution_count": null,
   "metadata": {},
   "outputs": [],
   "source": [
    "!cp yolov5/data/images/0.jpg yolov5/inference/images/\n",
    "# 查看识别效果\n",
    "import os\n",
    "os.chdir('yolov5')\n",
    "\n",
    "!python detect.py --source ./inference/images/ --weights weights/best.pt --conf 0.4\n",
    "\n",
    "os.chdir('../')"
   ]
  }
 ],
 "metadata": {
  "language_info": {
   "name": "python"
  },
  "orig_nbformat": 4
 },
 "nbformat": 4,
 "nbformat_minor": 2
}
